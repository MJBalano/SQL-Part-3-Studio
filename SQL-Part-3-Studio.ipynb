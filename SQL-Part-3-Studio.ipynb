{
    "metadata": {
        "kernelspec": {
            "name": "SQL",
            "display_name": "SQL",
            "language": "sql"
        },
        "language_info": {
            "name": "sql",
            "version": ""
        },
        "extensions": {
            "azuredatastudio": {
                "version": 1,
                "views": []
            }
        }
    },
    "nbformat_minor": 2,
    "nbformat": 4,
    "cells": [
        {
            "cell_type": "markdown",
            "source": [
                "# SQL Part 3 Studio\n",
                "\n",
                "### Let's practice your SQL quering skills!  For each question, work along in the notebook adding your query and answering the questions. \n",
                "\n",
                "### **DataSet**\n",
                "\n",
                "### <span style=\"font-size: 14px; font-family: -apple-system, BlinkMacSystemFont, sans-serif;\">We will be using the Goodbooks-10k dataset from the exercises in the prep work.&nbsp; Feel free reference your previous notebooks.</span>\n",
                "\n",
                "- The dataset can be found here: [goodbooks-10k](https://www.kaggle.com/zygmunt/goodbooks-10k)\n",
                "- You can access the **BooksDB** in the Launchcode server.\n",
                "\n",
                "### **Business Issue**\n",
                "\n",
                "You are an employee at a small independet bookstore and you have been tasked to increase sales.  You decide to use the BooksDB to find books and themes to highlight in fun promotions throughout each month / season.  We will be starting with March and then you will have a chance to explore another month of your choosing.  We want to come up with a list of events/ promotions to run each month.  If you are looking for ideas to include in your promotions:\n",
                "\n",
                "- [https://www.calendarr.com/united-states/calendar-2022/](https://www.calendarr.com/united-states/calendar-2022/)\n",
                "- [https://www.holidayinsights.com/moreholidays/](https://www.holidayinsights.com/moreholidays/)\n",
                "    - Click on a month and it will take you to a more detailed page"
            ],
            "metadata": {
                "azdata_cell_guid": "b9034d8a-b631-48bf-a895-1012a6ffa784"
            },
            "attachments": {}
        },
        {
            "cell_type": "markdown",
            "source": [
                "## Part 1:  March - Women's History Month, Dr Seuss Day(3/2), National Pie Day3/14, St Patrick's Day (3/17), Season - Spring"
            ],
            "metadata": {
                "azdata_cell_guid": "6e55eb1c-4a14-4076-90d2-95ed17a6309f"
            },
            "attachments": {}
        },
        {
            "cell_type": "markdown",
            "source": [
                "### **Event 1:** Women's History Month\n",
                "\n",
                "Goal: Highlight Popular Womans Authors based on ratings from the Good Reads DB.\n",
                "\n",
                "### **Write a query that returns tag\\_id, the number of times each tag\\_id is used and the tag\\_name.**  \n",
                "\n",
                "### Use the GROUP BY and HAVING clause to narrow your focus.\n",
                "\n",
                "Try multiple keywords, ie woman vs female (female ended up giving better results)"
            ],
            "metadata": {
                "azdata_cell_guid": "d220c097-e9cf-4edd-9abe-312d071217b7"
            },
            "attachments": {}
        },
        {
            "cell_type": "code",
            "source": [
                "-- Solution\r\n",
                "SELECT TOP (20) b_tag.tag_id, tag.tag_name, COUNT(b_tag.count) \r\n",
                "FROM BooksDB.dbo.book_tags AS b_tag\r\n",
                "INNER JOIN BooksDB.dbo.tags AS tag\r\n",
                "ON b_tag.tag_id = tag.tag_id\r\n",
                "GROUP BY tag.tag_name, b_tag.tag_id\r\n",
                "HAVING tag.tag_name LIKE '%woman%' OR tag.tag_name LIKE '%women%' OR tag.tag_name LIKE '%female' \r\n",
                "ORDER BY COUNT(b_tag.count) DESC;\r\n",
                ""
            ],
            "metadata": {
                "azdata_cell_guid": "e31b9d26-0386-44c7-828e-85f4f06f3ee6",
                "language": "sql"
            },
            "outputs": [
                {
                    "output_type": "display_data",
                    "data": {
                        "text/html": "(20 rows affected)"
                    },
                    "metadata": {}
                },
                {
                    "output_type": "display_data",
                    "data": {
                        "text/html": "Total execution time: 00:00:00.386"
                    },
                    "metadata": {}
                },
                {
                    "output_type": "execute_result",
                    "metadata": {},
                    "execution_count": 9,
                    "data": {
                        "application/vnd.dataresource+json": {
                            "schema": {
                                "fields": [
                                    {
                                        "name": "tag_id"
                                    },
                                    {
                                        "name": "tag_name"
                                    },
                                    {
                                        "name": "(No column name)"
                                    }
                                ]
                            },
                            "data": [
                                {
                                    "0": "32686",
                                    "1": "women",
                                    "2": "1062"
                                },
                                {
                                    "0": "32708",
                                    "1": "women-s-fiction",
                                    "2": "438"
                                },
                                {
                                    "0": "32724",
                                    "1": "women-writers",
                                    "2": "373"
                                },
                                {
                                    "0": "32726",
                                    "1": "womens-fiction",
                                    "2": "368"
                                },
                                {
                                    "0": "32688",
                                    "1": "women-authors",
                                    "2": "324"
                                },
                                {
                                    "0": "28839",
                                    "1": "strong-women",
                                    "2": "71"
                                },
                                {
                                    "0": "32720",
                                    "1": "women-s-studies",
                                    "2": "30"
                                },
                                {
                                    "0": "32735",
                                    "1": "womens-studies",
                                    "2": "21"
                                },
                                {
                                    "0": "11642",
                                    "1": "female",
                                    "2": "17"
                                },
                                {
                                    "0": "16122",
                                    "1": "james-patterson-women-s-murder-club",
                                    "2": "15"
                                },
                                {
                                    "0": "32717",
                                    "1": "women-s-murder-club-series",
                                    "2": "15"
                                },
                                {
                                    "0": "32732",
                                    "1": "womens-murder-club",
                                    "2": "15"
                                },
                                {
                                    "0": "32716",
                                    "1": "women-s-murder-club",
                                    "2": "15"
                                },
                                {
                                    "0": "32711",
                                    "1": "women-s-issues",
                                    "2": "14"
                                },
                                {
                                    "0": "32733",
                                    "1": "womens-murder-club-series",
                                    "2": "14"
                                },
                                {
                                    "0": "32681",
                                    "1": "woman-s-murder-club",
                                    "2": "14"
                                },
                                {
                                    "0": "32725",
                                    "1": "womens",
                                    "2": "13"
                                },
                                {
                                    "0": "3514",
                                    "1": "author-female",
                                    "2": "12"
                                },
                                {
                                    "0": "16123",
                                    "1": "james-patterson-womens-murder-club",
                                    "2": "12"
                                },
                                {
                                    "0": "32729",
                                    "1": "womens-issues",
                                    "2": "11"
                                }
                            ]
                        },
                        "text/html": [
                            "<table>",
                            "<tr><th>tag_id</th><th>tag_name</th><th>(No column name)</th></tr>",
                            "<tr><td>32686</td><td>women</td><td>1062</td></tr>",
                            "<tr><td>32708</td><td>women-s-fiction</td><td>438</td></tr>",
                            "<tr><td>32724</td><td>women-writers</td><td>373</td></tr>",
                            "<tr><td>32726</td><td>womens-fiction</td><td>368</td></tr>",
                            "<tr><td>32688</td><td>women-authors</td><td>324</td></tr>",
                            "<tr><td>28839</td><td>strong-women</td><td>71</td></tr>",
                            "<tr><td>32720</td><td>women-s-studies</td><td>30</td></tr>",
                            "<tr><td>32735</td><td>womens-studies</td><td>21</td></tr>",
                            "<tr><td>11642</td><td>female</td><td>17</td></tr>",
                            "<tr><td>16122</td><td>james-patterson-women-s-murder-club</td><td>15</td></tr>",
                            "<tr><td>32717</td><td>women-s-murder-club-series</td><td>15</td></tr>",
                            "<tr><td>32732</td><td>womens-murder-club</td><td>15</td></tr>",
                            "<tr><td>32716</td><td>women-s-murder-club</td><td>15</td></tr>",
                            "<tr><td>32711</td><td>women-s-issues</td><td>14</td></tr>",
                            "<tr><td>32733</td><td>womens-murder-club-series</td><td>14</td></tr>",
                            "<tr><td>32681</td><td>woman-s-murder-club</td><td>14</td></tr>",
                            "<tr><td>32725</td><td>womens</td><td>13</td></tr>",
                            "<tr><td>3514</td><td>author-female</td><td>12</td></tr>",
                            "<tr><td>16123</td><td>james-patterson-womens-murder-club</td><td>12</td></tr>",
                            "<tr><td>32729</td><td>womens-issues</td><td>11</td></tr>",
                            "</table>"
                        ]
                    }
                }
            ],
            "execution_count": 9
        },
        {
            "cell_type": "markdown",
            "source": [
                "### **Which keyword(s) and tag(s) would you like to explore more?**\n",
                "\n",
                "Double click to edit."
            ],
            "metadata": {
                "azdata_cell_guid": "e9acd8b5-a62b-4ac0-bd07-19915b379ba6"
            },
            "attachments": {}
        },
        {
            "cell_type": "markdown",
            "source": [
                "### **Write a query to return authors, titles, ratings and** **selected tag(s)\\_id.**"
            ],
            "metadata": {
                "azdata_cell_guid": "59b84464-c0bc-4dac-9e02-0c803765b063"
            },
            "attachments": {}
        },
        {
            "cell_type": "code",
            "source": [
                "-- Solution\r\n",
                "SELECT TOP (50) b.authors, b.title, b.average_rating, t.tag_id\r\n",
                "FROM BooksDB.dbo.books AS b\r\n",
                "LEFT JOIN BooksDB.dbo.book_tags as t\r\n",
                "ON t.goodreads_book_id = b.best_book_id\r\n",
                "WHERE t.tag_id = '32686'\r\n",
                "ORDER BY b.average_rating DESC;\r\n",
                ""
            ],
            "metadata": {
                "azdata_cell_guid": "51ffeaaf-6dde-4906-95f3-eb8757babf27",
                "tags": [],
                "language": "sql"
            },
            "outputs": [
                {
                    "output_type": "display_data",
                    "data": {
                        "text/html": "(50 rows affected)"
                    },
                    "metadata": {}
                },
                {
                    "output_type": "display_data",
                    "data": {
                        "text/html": "Total execution time: 00:00:29.896"
                    },
                    "metadata": {}
                },
                {
                    "output_type": "execute_result",
                    "metadata": {},
                    "execution_count": 21,
                    "data": {
                        "application/vnd.dataresource+json": {
                            "schema": {
                                "fields": [
                                    {
                                        "name": "authors"
                                    },
                                    {
                                        "name": "title"
                                    },
                                    {
                                        "name": "average_rating"
                                    },
                                    {
                                        "name": "tag_id"
                                    }
                                ]
                            },
                            "data": [
                                {
                                    "0": "Kristin Hannah",
                                    "1": "The Nightingale",
                                    "2": "4.54",
                                    "3": "32686"
                                },
                                {
                                    "0": "Assata Shakur, Angela Y. Davis, Lennox S. Hinds",
                                    "1": "Assata: An Autobiography",
                                    "2": "4.48",
                                    "3": "32686"
                                },
                                {
                                    "0": "Chimamanda Ngozi Adichie",
                                    "1": "We Should All Be Feminists",
                                    "2": "4.47",
                                    "3": "32686"
                                },
                                {
                                    "0": "Kathryn Stockett",
                                    "1": "The Help",
                                    "2": "4.45",
                                    "3": "32686"
                                },
                                {
                                    "0": "Stephen Schwartz, Gregory Maguire",
                                    "1": "Wicked - Piano/Vocal Arrangement",
                                    "2": "4.45",
                                    "3": "32686"
                                },
                                {
                                    "0": "Flannery O'Connor",
                                    "1": "The Complete Stories",
                                    "2": "4.44",
                                    "3": "32686"
                                },
                                {
                                    "0": "Immaculée Ilibagiza, Steve Erwin",
                                    "1": "Left to Tell: Discovering God Amidst the Rwandan Holocaust",
                                    "2": "4.43",
                                    "3": "32686"
                                },
                                {
                                    "0": "Beth Moore",
                                    "1": "Breaking Free: Discover the Victory of Total Surrender",
                                    "2": "4.43",
                                    "3": "32686"
                                },
                                {
                                    "0": "Ina May Gaskin",
                                    "1": "Ina May's Guide to Childbirth",
                                    "2": "4.42",
                                    "3": "32686"
                                },
                                {
                                    "0": "Yaa Gyasi",
                                    "1": "Homegoing",
                                    "2": "4.41",
                                    "3": "32686"
                                },
                                {
                                    "0": "Katie J. Davis, Beth Clark",
                                    "1": "Kisses from Katie: A Story of Relentless Love and Redemption",
                                    "2": "4.4",
                                    "3": "32686"
                                },
                                {
                                    "0": "Elena Ferrante, Ann Goldstein",
                                    "1": "The Story of the Lost Child (The Neapolitan Novels, #4)",
                                    "2": "4.39",
                                    "3": "32686"
                                },
                                {
                                    "0": "Elena Ferrante, Ann Goldstein",
                                    "1": "The Story of a New Name (The Neapolitan Novels #2)",
                                    "2": "4.37",
                                    "3": "32686"
                                },
                                {
                                    "0": "Marjane Satrapi, Mattias Ripa, Blake Ferris, Anjali Singh",
                                    "1": "The Complete Persepolis",
                                    "2": "4.36",
                                    "3": "32686"
                                },
                                {
                                    "0": "Khaled Hosseini",
                                    "1": "A Thousand Splendid Suns",
                                    "2": "4.34",
                                    "3": "32686"
                                },
                                {
                                    "0": "Janet Evanovich",
                                    "1": "Janet Evanovich Three and Four Two-Book Set (Stephanie Plum, #3-4)",
                                    "2": "4.34",
                                    "3": "32686"
                                },
                                {
                                    "0": "J.D. Robb",
                                    "1": "Imitation in Death (In Death, #17)",
                                    "2": "4.34",
                                    "3": "32686"
                                },
                                {
                                    "0": "J.D. Robb",
                                    "1": "Creation in Death (In Death, #25)",
                                    "2": "4.34",
                                    "3": "32686"
                                },
                                {
                                    "0": "J.D. Robb",
                                    "1": "Indulgence in Death (In Death, #31)",
                                    "2": "4.32",
                                    "3": "32686"
                                },
                                {
                                    "0": "Christiane Northrup",
                                    "1": "Women's Bodies, Women's Wisdom: Creating Physical and Emotional Health and Healing",
                                    "2": "4.32",
                                    "3": "32686"
                                },
                                {
                                    "0": "Nicholas D. Kristof, Sheryl WuDunn",
                                    "1": "Half the Sky: Turning Oppression into Opportunity for Women Worldwide",
                                    "2": "4.31",
                                    "3": "32686"
                                },
                                {
                                    "0": "Martha Hall Kelly",
                                    "1": "Lilac Girls",
                                    "2": "4.31",
                                    "3": "32686"
                                },
                                {
                                    "0": "N.K. Jemisin",
                                    "1": "The Fifth Season (The Broken Earth, #1)",
                                    "2": "4.31",
                                    "3": "32686"
                                },
                                {
                                    "0": "J.D. Robb",
                                    "1": "Memory in Death (In Death, #22)",
                                    "2": "4.31",
                                    "3": "32686"
                                },
                                {
                                    "0": "Melissa Müller, Rita Kimber, Robert Kimber",
                                    "1": "Anne Frank : The Biography",
                                    "2": "4.31",
                                    "3": "32686"
                                },
                                {
                                    "0": "Karen Kingsbury",
                                    "1": "Ever After (Lost Love, #2)",
                                    "2": "4.31",
                                    "3": "32686"
                                },
                                {
                                    "0": "Lisa Genova",
                                    "1": "Still Alice",
                                    "2": "4.3",
                                    "3": "32686"
                                },
                                {
                                    "0": "Tetsuko Kuroyanagi, Chihiro Iwasaki, Dorothy Britton",
                                    "1": "Totto-chan: The Little Girl at the Window",
                                    "2": "4.3",
                                    "3": "32686"
                                },
                                {
                                    "0": "Claudia Rankine",
                                    "1": "Citizen: An American Lyric",
                                    "2": "4.3",
                                    "3": "32686"
                                },
                                {
                                    "0": "Cheryl Strayed",
                                    "1": "Tiny Beautiful Things: Advice on Love and Life from Dear Sugar",
                                    "2": "4.29",
                                    "3": "32686"
                                },
                                {
                                    "0": "Terry Pratchett",
                                    "1": "A Hat Full of Sky (Discworld, #32; Tiffany Aching, #2)",
                                    "2": "4.29",
                                    "3": "32686"
                                },
                                {
                                    "0": "Elena Ferrante, Ann Goldstein",
                                    "1": "Those Who Leave and Those Who Stay (The Neapolitan Novels #3)",
                                    "2": "4.29",
                                    "3": "32686"
                                },
                                {
                                    "0": "Elizabeth George",
                                    "1": "A Woman After God's Own Heart",
                                    "2": "4.29",
                                    "3": "32686"
                                },
                                {
                                    "0": "Loung Ung",
                                    "1": "First They Killed My Father: A Daughter of Cambodia Remembers",
                                    "2": "4.29",
                                    "3": "32686"
                                },
                                {
                                    "0": "Sylvia Plath, Karen V. Kukil",
                                    "1": "The Unabridged Journals of Sylvia Plath",
                                    "2": "4.29",
                                    "3": "32686"
                                },
                                {
                                    "0": "Margaret Mitchell",
                                    "1": "Gone with the Wind",
                                    "2": "4.28",
                                    "3": "32686"
                                },
                                {
                                    "0": "Francine Rivers",
                                    "1": "Her Mother's Hope (Marta's Legacy, #1)",
                                    "2": "4.28",
                                    "3": "32686"
                                },
                                {
                                    "0": "Anne Sexton, Maxine Kumin",
                                    "1": "The Complete Poems",
                                    "2": "4.28",
                                    "3": "32686"
                                },
                                {
                                    "0": "Marjane Satrapi",
                                    "1": "Persepolis, Volume 1",
                                    "2": "4.27",
                                    "3": "32686"
                                },
                                {
                                    "0": "Rupi Kaur",
                                    "1": "Milk and Honey",
                                    "2": "4.27",
                                    "3": "32686"
                                },
                                {
                                    "0": "Ntozake Shange",
                                    "1": "for colored girls who have considered suicide/when the rainbow is enuf",
                                    "2": "4.27",
                                    "3": "32686"
                                },
                                {
                                    "0": "Leslie Feinberg",
                                    "1": "Stone Butch Blues",
                                    "2": "4.27",
                                    "3": "32686"
                                },
                                {
                                    "0": "Flannery O'Connor, Robert Fitzgerald",
                                    "1": "Everything That Rises Must Converge: Stories",
                                    "2": "4.27",
                                    "3": "32686"
                                },
                                {
                                    "0": "Astrid Lindgren, Patricia Crampton, Trina Schart Hyman",
                                    "1": "Ronia, the Robber's Daughter",
                                    "2": "4.27",
                                    "3": "32686"
                                },
                                {
                                    "0": "Fannie Flagg",
                                    "1": "Fried Green Tomatoes at the Whistle Stop Cafe",
                                    "2": "4.26",
                                    "3": "32686"
                                },
                                {
                                    "0": "Chimamanda Ngozi Adichie",
                                    "1": "Americanah",
                                    "2": "4.26",
                                    "3": "32686"
                                },
                                {
                                    "0": "Miep Gies, Alison Leslie Gold",
                                    "1": "Anne Frank Remembered: The Story of the Woman Who Helped to Hide the Frank Family",
                                    "2": "4.26",
                                    "3": "32686"
                                },
                                {
                                    "0": "Francine Rivers",
                                    "1": "The Atonement Child",
                                    "2": "4.26",
                                    "3": "32686"
                                },
                                {
                                    "0": "Francine Rivers",
                                    "1": "Unveiled: Tamar (Lineage of Grace #1)",
                                    "2": "4.26",
                                    "3": "32686"
                                },
                                {
                                    "0": "Dorothy L. Sayers",
                                    "1": "Gaudy Night (Lord Peter Wimsey, #12)",
                                    "2": "4.26",
                                    "3": "32686"
                                }
                            ]
                        },
                        "text/html": [
                            "<table>",
                            "<tr><th>authors</th><th>title</th><th>average_rating</th><th>tag_id</th></tr>",
                            "<tr><td>Kristin Hannah</td><td>The Nightingale</td><td>4.54</td><td>32686</td></tr>",
                            "<tr><td>Assata Shakur, Angela Y. Davis, Lennox S. Hinds</td><td>Assata: An Autobiography</td><td>4.48</td><td>32686</td></tr>",
                            "<tr><td>Chimamanda Ngozi Adichie</td><td>We Should All Be Feminists</td><td>4.47</td><td>32686</td></tr>",
                            "<tr><td>Kathryn Stockett</td><td>The Help</td><td>4.45</td><td>32686</td></tr>",
                            "<tr><td>Stephen Schwartz, Gregory Maguire</td><td>Wicked - Piano/Vocal Arrangement</td><td>4.45</td><td>32686</td></tr>",
                            "<tr><td>Flannery O'Connor</td><td>The Complete Stories</td><td>4.44</td><td>32686</td></tr>",
                            "<tr><td>Immaculée Ilibagiza, Steve Erwin</td><td>Left to Tell: Discovering God Amidst the Rwandan Holocaust</td><td>4.43</td><td>32686</td></tr>",
                            "<tr><td>Beth Moore</td><td>Breaking Free: Discover the Victory of Total Surrender</td><td>4.43</td><td>32686</td></tr>",
                            "<tr><td>Ina May Gaskin</td><td>Ina May's Guide to Childbirth</td><td>4.42</td><td>32686</td></tr>",
                            "<tr><td>Yaa Gyasi</td><td>Homegoing</td><td>4.41</td><td>32686</td></tr>",
                            "<tr><td>Katie J. Davis, Beth Clark</td><td>Kisses from Katie: A Story of Relentless Love and Redemption</td><td>4.4</td><td>32686</td></tr>",
                            "<tr><td>Elena Ferrante, Ann Goldstein</td><td>The Story of the Lost Child (The Neapolitan Novels, #4)</td><td>4.39</td><td>32686</td></tr>",
                            "<tr><td>Elena Ferrante, Ann Goldstein</td><td>The Story of a New Name (The Neapolitan Novels #2)</td><td>4.37</td><td>32686</td></tr>",
                            "<tr><td>Marjane Satrapi, Mattias Ripa, Blake Ferris, Anjali Singh</td><td>The Complete Persepolis</td><td>4.36</td><td>32686</td></tr>",
                            "<tr><td>Khaled Hosseini</td><td>A Thousand Splendid Suns</td><td>4.34</td><td>32686</td></tr>",
                            "<tr><td>Janet Evanovich</td><td>Janet Evanovich Three and Four Two-Book Set (Stephanie Plum, #3-4)</td><td>4.34</td><td>32686</td></tr>",
                            "<tr><td>J.D. Robb</td><td>Imitation in Death (In Death, #17)</td><td>4.34</td><td>32686</td></tr>",
                            "<tr><td>J.D. Robb</td><td>Creation in Death (In Death, #25)</td><td>4.34</td><td>32686</td></tr>",
                            "<tr><td>J.D. Robb</td><td>Indulgence in Death (In Death, #31)</td><td>4.32</td><td>32686</td></tr>",
                            "<tr><td>Christiane Northrup</td><td>Women's Bodies, Women's Wisdom: Creating Physical and Emotional Health and Healing</td><td>4.32</td><td>32686</td></tr>",
                            "<tr><td>Nicholas D. Kristof, Sheryl WuDunn</td><td>Half the Sky: Turning Oppression into Opportunity for Women Worldwide</td><td>4.31</td><td>32686</td></tr>",
                            "<tr><td>Martha Hall Kelly</td><td>Lilac Girls</td><td>4.31</td><td>32686</td></tr>",
                            "<tr><td>N.K. Jemisin</td><td>The Fifth Season (The Broken Earth, #1)</td><td>4.31</td><td>32686</td></tr>",
                            "<tr><td>J.D. Robb</td><td>Memory in Death (In Death, #22)</td><td>4.31</td><td>32686</td></tr>",
                            "<tr><td>Melissa Müller, Rita Kimber, Robert Kimber</td><td>Anne Frank : The Biography</td><td>4.31</td><td>32686</td></tr>",
                            "<tr><td>Karen Kingsbury</td><td>Ever After (Lost Love, #2)</td><td>4.31</td><td>32686</td></tr>",
                            "<tr><td>Lisa Genova</td><td>Still Alice</td><td>4.3</td><td>32686</td></tr>",
                            "<tr><td>Tetsuko Kuroyanagi, Chihiro Iwasaki, Dorothy Britton</td><td>Totto-chan: The Little Girl at the Window</td><td>4.3</td><td>32686</td></tr>",
                            "<tr><td>Claudia Rankine</td><td>Citizen: An American Lyric</td><td>4.3</td><td>32686</td></tr>",
                            "<tr><td>Cheryl Strayed</td><td>Tiny Beautiful Things: Advice on Love and Life from Dear Sugar</td><td>4.29</td><td>32686</td></tr>",
                            "<tr><td>Terry Pratchett</td><td>A Hat Full of Sky (Discworld, #32; Tiffany Aching, #2)</td><td>4.29</td><td>32686</td></tr>",
                            "<tr><td>Elena Ferrante, Ann Goldstein</td><td>Those Who Leave and Those Who Stay (The Neapolitan Novels #3)</td><td>4.29</td><td>32686</td></tr>",
                            "<tr><td>Elizabeth George</td><td>A Woman After God's Own Heart</td><td>4.29</td><td>32686</td></tr>",
                            "<tr><td>Loung Ung</td><td>First They Killed My Father: A Daughter of Cambodia Remembers</td><td>4.29</td><td>32686</td></tr>",
                            "<tr><td>Sylvia Plath, Karen V. Kukil</td><td>The Unabridged Journals of Sylvia Plath</td><td>4.29</td><td>32686</td></tr>",
                            "<tr><td>Margaret Mitchell</td><td>Gone with the Wind</td><td>4.28</td><td>32686</td></tr>",
                            "<tr><td>Francine Rivers</td><td>Her Mother's Hope (Marta's Legacy, #1)</td><td>4.28</td><td>32686</td></tr>",
                            "<tr><td>Anne Sexton, Maxine Kumin</td><td>The Complete Poems</td><td>4.28</td><td>32686</td></tr>",
                            "<tr><td>Marjane Satrapi</td><td>Persepolis, Volume 1</td><td>4.27</td><td>32686</td></tr>",
                            "<tr><td>Rupi Kaur</td><td>Milk and Honey</td><td>4.27</td><td>32686</td></tr>",
                            "<tr><td>Ntozake Shange</td><td>for colored girls who have considered suicide/when the rainbow is enuf</td><td>4.27</td><td>32686</td></tr>",
                            "<tr><td>Leslie Feinberg</td><td>Stone Butch Blues</td><td>4.27</td><td>32686</td></tr>",
                            "<tr><td>Flannery O'Connor, Robert Fitzgerald</td><td>Everything That Rises Must Converge: Stories</td><td>4.27</td><td>32686</td></tr>",
                            "<tr><td>Astrid Lindgren, Patricia Crampton, Trina Schart Hyman</td><td>Ronia, the Robber's Daughter</td><td>4.27</td><td>32686</td></tr>",
                            "<tr><td>Fannie Flagg</td><td>Fried Green Tomatoes at the Whistle Stop Cafe</td><td>4.26</td><td>32686</td></tr>",
                            "<tr><td>Chimamanda Ngozi Adichie</td><td>Americanah</td><td>4.26</td><td>32686</td></tr>",
                            "<tr><td>Miep Gies, Alison Leslie Gold</td><td>Anne Frank Remembered: The Story of the Woman Who Helped to Hide the Frank Family</td><td>4.26</td><td>32686</td></tr>",
                            "<tr><td>Francine Rivers</td><td>The Atonement Child</td><td>4.26</td><td>32686</td></tr>",
                            "<tr><td>Francine Rivers</td><td>Unveiled: Tamar (Lineage of Grace #1)</td><td>4.26</td><td>32686</td></tr>",
                            "<tr><td>Dorothy L. Sayers</td><td>Gaudy Night (Lord Peter Wimsey, #12)</td><td>4.26</td><td>32686</td></tr>",
                            "</table>"
                        ]
                    }
                }
            ],
            "execution_count": 21
        },
        {
            "cell_type": "markdown",
            "source": [
                "### **Record your thoughts about why you wrote the query the way you did.**"
            ],
            "metadata": {
                "azdata_cell_guid": "1e19a72c-1bca-446b-a0c7-a8efbc35dcf1"
            },
            "attachments": {}
        },
        {
            "cell_type": "markdown",
            "source": [
                "# Part 2: Choose Another Month\n",
                "\n",
                "Choose another month and plan at least 2 events / promotions and answer the following questions.\n",
                "\n",
                "Which month did you choose?  FEB\n",
                "\n",
                "What 2 events / promotions are you highlighting?\n",
                "\n",
                "> 1. President's Day\n",
                "\n",
                "> 2. Valentine Day"
            ],
            "metadata": {
                "azdata_cell_guid": "3eaf376d-9de3-4553-a9d0-9caf74ee3d6a"
            },
            "attachments": {}
        },
        {
            "cell_type": "markdown",
            "source": [
                "# Part 3: Summarize your Work\n",
                "\n",
                "For each event write at least one query that joins any two tables in the BooksDB to support your choice and record you thoughts as to why you used the paticlular query. At least one of your queries needs to include a HAVING clause."
            ],
            "metadata": {
                "azdata_cell_guid": "1ba1363a-4f02-4962-a95a-93b80c5926b1"
            },
            "attachments": {}
        },
        {
            "cell_type": "markdown",
            "source": [
                "### **Summary of event 1:**\n",
                "\n",
                "Double Click to edit."
            ],
            "metadata": {
                "azdata_cell_guid": "3bc72d4c-077b-42d3-9528-9aff8e7b6cf3"
            },
            "attachments": {}
        },
        {
            "cell_type": "code",
            "source": [
                "-- Event 1 Query\r\n",
                "SELECT TOP (20) b_tag.tag_id, tag.tag_name, COUNT(b_tag.count) \r\n",
                "FROM BooksDB.dbo.book_tags AS b_tag\r\n",
                "INNER JOIN BooksDB.dbo.tags AS tag\r\n",
                "ON b_tag.tag_id = tag.tag_id\r\n",
                "GROUP BY tag.tag_name, b_tag.tag_id\r\n",
                "HAVING tag.tag_name LIKE '%president%'\r\n",
                "ORDER BY COUNT(b_tag.count) DESC;\r\n",
                "\r\n",
                "SELECT TOP (50) b.authors, b.title, b.average_rating, t.tag_id\r\n",
                "FROM BooksDB.dbo.books AS b\r\n",
                "LEFT JOIN BooksDB.dbo.book_tags as t\r\n",
                "ON t.goodreads_book_id = b.best_book_id\r\n",
                "WHERE t.tag_id = '24246'\r\n",
                "ORDER BY b.average_rating DESC;\r\n",
                ""
            ],
            "metadata": {
                "azdata_cell_guid": "dca0a98f-065f-4b0e-9d93-fcb01cad668c",
                "language": "sql"
            },
            "outputs": [
                {
                    "output_type": "display_data",
                    "data": {
                        "text/html": "(20 rows affected)"
                    },
                    "metadata": {}
                },
                {
                    "output_type": "display_data",
                    "data": {
                        "text/html": "(50 rows affected)"
                    },
                    "metadata": {}
                },
                {
                    "output_type": "display_data",
                    "data": {
                        "text/html": "Total execution time: 00:00:00.446"
                    },
                    "metadata": {}
                },
                {
                    "output_type": "execute_result",
                    "metadata": {},
                    "execution_count": 25,
                    "data": {
                        "application/vnd.dataresource+json": {
                            "schema": {
                                "fields": [
                                    {
                                        "name": "tag_id"
                                    },
                                    {
                                        "name": "tag_name"
                                    },
                                    {
                                        "name": "(No column name)"
                                    }
                                ]
                            },
                            "data": [
                                {
                                    "0": "24246",
                                    "1": "presidents",
                                    "2": "53"
                                },
                                {
                                    "0": "31653",
                                    "1": "us-presidents",
                                    "2": "32"
                                },
                                {
                                    "0": "24238",
                                    "1": "presidential",
                                    "2": "25"
                                },
                                {
                                    "0": "2322",
                                    "1": "american-presidents",
                                    "2": "24"
                                },
                                {
                                    "0": "24239",
                                    "1": "presidential-biographies",
                                    "2": "24"
                                },
                                {
                                    "0": "24241",
                                    "1": "presidential-bios",
                                    "2": "22"
                                },
                                {
                                    "0": "24236",
                                    "1": "president",
                                    "2": "22"
                                },
                                {
                                    "0": "24240",
                                    "1": "presidential-biography",
                                    "2": "20"
                                },
                                {
                                    "0": "24244",
                                    "1": "presidential-history",
                                    "2": "19"
                                },
                                {
                                    "0": "31416",
                                    "1": "u-s-presidents",
                                    "2": "19"
                                },
                                {
                                    "0": "24237",
                                    "1": "president-biographies",
                                    "2": "4"
                                },
                                {
                                    "0": "24242",
                                    "1": "presidential-challenge",
                                    "2": "3"
                                },
                                {
                                    "0": "2321",
                                    "1": "american-president",
                                    "2": "1"
                                },
                                {
                                    "0": "24245",
                                    "1": "presidential-series",
                                    "2": "1"
                                },
                                {
                                    "0": "2270",
                                    "1": "amercian-history-presidents",
                                    "2": "1"
                                },
                                {
                                    "0": "30031",
                                    "1": "the-presidents",
                                    "2": "1"
                                },
                                {
                                    "0": "30784",
                                    "1": "to-read-presidents",
                                    "2": "1"
                                },
                                {
                                    "0": "3263",
                                    "1": "assassination-of-president",
                                    "2": "1"
                                },
                                {
                                    "0": "17122",
                                    "1": "kidnapping-president-s-children",
                                    "2": "1"
                                },
                                {
                                    "0": "24243",
                                    "1": "presidential-election",
                                    "2": "1"
                                }
                            ]
                        },
                        "text/html": [
                            "<table>",
                            "<tr><th>tag_id</th><th>tag_name</th><th>(No column name)</th></tr>",
                            "<tr><td>24246</td><td>presidents</td><td>53</td></tr>",
                            "<tr><td>31653</td><td>us-presidents</td><td>32</td></tr>",
                            "<tr><td>24238</td><td>presidential</td><td>25</td></tr>",
                            "<tr><td>2322</td><td>american-presidents</td><td>24</td></tr>",
                            "<tr><td>24239</td><td>presidential-biographies</td><td>24</td></tr>",
                            "<tr><td>24241</td><td>presidential-bios</td><td>22</td></tr>",
                            "<tr><td>24236</td><td>president</td><td>22</td></tr>",
                            "<tr><td>24240</td><td>presidential-biography</td><td>20</td></tr>",
                            "<tr><td>24244</td><td>presidential-history</td><td>19</td></tr>",
                            "<tr><td>31416</td><td>u-s-presidents</td><td>19</td></tr>",
                            "<tr><td>24237</td><td>president-biographies</td><td>4</td></tr>",
                            "<tr><td>24242</td><td>presidential-challenge</td><td>3</td></tr>",
                            "<tr><td>2321</td><td>american-president</td><td>1</td></tr>",
                            "<tr><td>24245</td><td>presidential-series</td><td>1</td></tr>",
                            "<tr><td>2270</td><td>amercian-history-presidents</td><td>1</td></tr>",
                            "<tr><td>30031</td><td>the-presidents</td><td>1</td></tr>",
                            "<tr><td>30784</td><td>to-read-presidents</td><td>1</td></tr>",
                            "<tr><td>3263</td><td>assassination-of-president</td><td>1</td></tr>",
                            "<tr><td>17122</td><td>kidnapping-president-s-children</td><td>1</td></tr>",
                            "<tr><td>24243</td><td>presidential-election</td><td>1</td></tr>",
                            "</table>"
                        ]
                    }
                },
                {
                    "output_type": "execute_result",
                    "metadata": {},
                    "execution_count": 25,
                    "data": {
                        "application/vnd.dataresource+json": {
                            "schema": {
                                "fields": [
                                    {
                                        "name": "authors"
                                    },
                                    {
                                        "name": "title"
                                    },
                                    {
                                        "name": "average_rating"
                                    },
                                    {
                                        "name": "tag_id"
                                    }
                                ]
                            },
                            "data": [
                                {
                                    "0": "Robert A. Caro",
                                    "1": "The Path to Power (The Years of Lyndon Johnson, #1)",
                                    "2": "4.42",
                                    "3": "24246"
                                },
                                {
                                    "0": "Robert A. Caro",
                                    "1": "Master of the Senate (The Years of Lyndon Johnson, #3)",
                                    "2": "4.41",
                                    "3": "24246"
                                },
                                {
                                    "0": "Doris Kearns Goodwin, Suzanne Toren",
                                    "1": "Team of Rivals: The Political Genius of Abraham Lincoln",
                                    "2": "4.3",
                                    "3": "24246"
                                },
                                {
                                    "0": "Ron Chernow",
                                    "1": "Alexander Hamilton",
                                    "2": "4.26",
                                    "3": "24246"
                                },
                                {
                                    "0": "Edmund Morris",
                                    "1": "The Rise of Theodore Roosevelt",
                                    "2": "4.25",
                                    "3": "24246"
                                },
                                {
                                    "0": "Robert A. Caro",
                                    "1": "Means of Ascent (The Years of Lyndon Johnson, #2)",
                                    "2": "4.25",
                                    "3": "24246"
                                },
                                {
                                    "0": "Ronald C. White Jr.",
                                    "1": "A. Lincoln",
                                    "2": "4.22",
                                    "3": "24246"
                                },
                                {
                                    "0": "Stephanie Dray, Laura Kamoie",
                                    "1": "America's First Daughter",
                                    "2": "4.22",
                                    "3": "24246"
                                },
                                {
                                    "0": "Doris Kearns Goodwin",
                                    "1": "No Ordinary Time: Franklin and Eleanor Roosevelt: The Home Front in World War II",
                                    "2": "4.2",
                                    "3": "24246"
                                },
                                {
                                    "0": "Candice Millard",
                                    "1": "Destiny of the Republic: A Tale of Madness, Medicine and the Murder of a President",
                                    "2": "4.19",
                                    "3": "24246"
                                },
                                {
                                    "0": "David Herbert Donald",
                                    "1": "Lincoln",
                                    "2": "4.17",
                                    "3": "24246"
                                },
                                {
                                    "0": "Carl Bernstein, Bob Woodward",
                                    "1": "All the President's Men",
                                    "2": "4.17",
                                    "3": "24246"
                                },
                                {
                                    "0": "Doris Kearns Goodwin",
                                    "1": "The Bully Pulpit: Theodore Roosevelt, William Howard Taft, and the Golden Age of Journalism",
                                    "2": "4.16",
                                    "3": "24246"
                                },
                                {
                                    "0": "Candice Millard",
                                    "1": "The River of Doubt: Theodore Roosevelt's Darkest Journey",
                                    "2": "4.16",
                                    "3": "24246"
                                },
                                {
                                    "0": "Edmund Morris",
                                    "1": "Theodore Rex",
                                    "2": "4.16",
                                    "3": "24246"
                                },
                                {
                                    "0": "David McCullough",
                                    "1": "Truman",
                                    "2": "4.15",
                                    "3": "24246"
                                },
                                {
                                    "0": "Jay Winik",
                                    "1": "April 1865: The Month That Saved America",
                                    "2": "4.15",
                                    "3": "24246"
                                },
                                {
                                    "0": "Clint Hill, Lisa McCubbin",
                                    "1": "Mrs. Kennedy and Me: An Intimate Memoir",
                                    "2": "4.14",
                                    "3": "24246"
                                },
                                {
                                    "0": "James L. Swanson",
                                    "1": "Manhunt: The 12-Day Chase for Lincoln's Killer",
                                    "2": "4.12",
                                    "3": "24246"
                                },
                                {
                                    "0": "David Hackett Fischer",
                                    "1": "Washington's Crossing",
                                    "2": "4.11",
                                    "3": "24246"
                                },
                                {
                                    "0": "Edmund Morris",
                                    "1": "Colonel Roosevelt",
                                    "2": "4.1",
                                    "3": "24246"
                                },
                                {
                                    "0": "John Heilemann, Mark Halperin",
                                    "1": "Game Change: Obama and the Clintons, McCain and Palin, and the Race of a Lifetime",
                                    "2": "4.1",
                                    "3": "24246"
                                },
                                {
                                    "0": "David McCullough",
                                    "1": "Mornings on Horseback",
                                    "2": "4.1",
                                    "3": "24246"
                                },
                                {
                                    "0": "Hunter S. Thompson",
                                    "1": "Fear and Loathing on the Campaign Trail '72",
                                    "2": "4.1",
                                    "3": "24246"
                                },
                                {
                                    "0": "Ron Chernow",
                                    "1": "Washington: A Life",
                                    "2": "4.09",
                                    "3": "24246"
                                },
                                {
                                    "0": "Bill O'Reilly, Martin Dugard",
                                    "1": "Killing Reagan: The Violent Assault That Changed a Presidency",
                                    "2": "4.08",
                                    "3": "24246"
                                },
                                {
                                    "0": "David McCullough",
                                    "1": "1776",
                                    "2": "4.06",
                                    "3": "24246"
                                },
                                {
                                    "0": "David McCullough",
                                    "1": "John Adams",
                                    "2": "4.05",
                                    "3": "24246"
                                },
                                {
                                    "0": "Bill O'Reilly, Martin Dugard",
                                    "1": "Killing Kennedy: The End of Camelot",
                                    "2": "4.05",
                                    "3": "24246"
                                },
                                {
                                    "0": "Tom Clancy",
                                    "1": "Executive Orders (Jack Ryan Universe, #9)",
                                    "2": "4.04",
                                    "3": "24246"
                                },
                                {
                                    "0": "Bill O'Reilly, Martin Dugard",
                                    "1": "Killing Lincoln: The Shocking Assassination that Changed America Forever",
                                    "2": "4.02",
                                    "3": "24246"
                                },
                                {
                                    "0": "Edward M. Kennedy",
                                    "1": "True Compass: A Memoir",
                                    "2": "3.99",
                                    "3": "24246"
                                },
                                {
                                    "0": "Jon Meacham",
                                    "1": "Thomas Jefferson: The Art of Power",
                                    "2": "3.99",
                                    "3": "24246"
                                },
                                {
                                    "0": "Sarah Vowell",
                                    "1": "Assassination Vacation",
                                    "2": "3.98",
                                    "3": "24246"
                                },
                                {
                                    "0": "George Saunders",
                                    "1": "Lincoln in the Bardo",
                                    "2": "3.93",
                                    "3": "24246"
                                },
                                {
                                    "0": "Joseph J. Ellis",
                                    "1": "Founding Brothers: The Revolutionary Generation",
                                    "2": "3.92",
                                    "3": "24246"
                                },
                                {
                                    "0": "Joseph J. Ellis",
                                    "1": "His Excellency: George Washington",
                                    "2": "3.9",
                                    "3": "24246"
                                },
                                {
                                    "0": "Joseph J. Ellis",
                                    "1": "American Sphinx: The Character of Thomas Jefferson",
                                    "2": "3.9",
                                    "3": "24246"
                                },
                                {
                                    "0": "Barack Obama",
                                    "1": "Dreams from My Father: A Story of Race and Inheritance",
                                    "2": "3.81",
                                    "3": "24246"
                                },
                                {
                                    "0": "Tom Clancy",
                                    "1": "The Bear and the Dragon (Jack Ryan Universe, #11)",
                                    "2": "3.79",
                                    "3": "24246"
                                },
                                {
                                    "0": "Brian Kilmeade, Don Yaeger",
                                    "1": "George Washington's Secret Six: The Spy Ring That Saved the American Revolution",
                                    "2": "3.77",
                                    "3": "24246"
                                },
                                {
                                    "0": "George W. Bush",
                                    "1": "Decision Points",
                                    "2": "3.77",
                                    "3": "24246"
                                },
                                {
                                    "0": "Jon Meacham",
                                    "1": "American Lion: Andrew Jackson in the White House",
                                    "2": "3.76",
                                    "3": "24246"
                                },
                                {
                                    "0": "Kate Andersen Brower",
                                    "1": "The Residence: Inside the Private World of the White House",
                                    "2": "3.75",
                                    "3": "24246"
                                },
                                {
                                    "0": "Hillary Rodham Clinton",
                                    "1": "Living History",
                                    "2": "3.75",
                                    "3": "24246"
                                },
                                {
                                    "0": "Curtis Sittenfeld",
                                    "1": "American Wife",
                                    "2": "3.72",
                                    "3": "24246"
                                },
                                {
                                    "0": "Bill Clinton",
                                    "1": "My Life",
                                    "2": "3.72",
                                    "3": "24246"
                                },
                                {
                                    "0": "Barack Obama",
                                    "1": "The Audacity of Hope: Thoughts on Reclaiming the American Dream",
                                    "2": "3.69",
                                    "3": "24246"
                                },
                                {
                                    "0": "Dan Brown",
                                    "1": "Deception Point",
                                    "2": "3.67",
                                    "3": "24246"
                                },
                                {
                                    "0": "Donald J. Trump, Tony Schwartz",
                                    "1": "Trump: The Art of the Deal",
                                    "2": "3.66",
                                    "3": "24246"
                                }
                            ]
                        },
                        "text/html": [
                            "<table>",
                            "<tr><th>authors</th><th>title</th><th>average_rating</th><th>tag_id</th></tr>",
                            "<tr><td>Robert A. Caro</td><td>The Path to Power (The Years of Lyndon Johnson, #1)</td><td>4.42</td><td>24246</td></tr>",
                            "<tr><td>Robert A. Caro</td><td>Master of the Senate (The Years of Lyndon Johnson, #3)</td><td>4.41</td><td>24246</td></tr>",
                            "<tr><td>Doris Kearns Goodwin, Suzanne Toren</td><td>Team of Rivals: The Political Genius of Abraham Lincoln</td><td>4.3</td><td>24246</td></tr>",
                            "<tr><td>Ron Chernow</td><td>Alexander Hamilton</td><td>4.26</td><td>24246</td></tr>",
                            "<tr><td>Edmund Morris</td><td>The Rise of Theodore Roosevelt</td><td>4.25</td><td>24246</td></tr>",
                            "<tr><td>Robert A. Caro</td><td>Means of Ascent (The Years of Lyndon Johnson, #2)</td><td>4.25</td><td>24246</td></tr>",
                            "<tr><td>Ronald C. White Jr.</td><td>A. Lincoln</td><td>4.22</td><td>24246</td></tr>",
                            "<tr><td>Stephanie Dray, Laura Kamoie</td><td>America's First Daughter</td><td>4.22</td><td>24246</td></tr>",
                            "<tr><td>Doris Kearns Goodwin</td><td>No Ordinary Time: Franklin and Eleanor Roosevelt: The Home Front in World War II</td><td>4.2</td><td>24246</td></tr>",
                            "<tr><td>Candice Millard</td><td>Destiny of the Republic: A Tale of Madness, Medicine and the Murder of a President</td><td>4.19</td><td>24246</td></tr>",
                            "<tr><td>David Herbert Donald</td><td>Lincoln</td><td>4.17</td><td>24246</td></tr>",
                            "<tr><td>Carl Bernstein, Bob Woodward</td><td>All the President's Men</td><td>4.17</td><td>24246</td></tr>",
                            "<tr><td>Doris Kearns Goodwin</td><td>The Bully Pulpit: Theodore Roosevelt, William Howard Taft, and the Golden Age of Journalism</td><td>4.16</td><td>24246</td></tr>",
                            "<tr><td>Candice Millard</td><td>The River of Doubt: Theodore Roosevelt's Darkest Journey</td><td>4.16</td><td>24246</td></tr>",
                            "<tr><td>Edmund Morris</td><td>Theodore Rex</td><td>4.16</td><td>24246</td></tr>",
                            "<tr><td>David McCullough</td><td>Truman</td><td>4.15</td><td>24246</td></tr>",
                            "<tr><td>Jay Winik</td><td>April 1865: The Month That Saved America</td><td>4.15</td><td>24246</td></tr>",
                            "<tr><td>Clint Hill, Lisa McCubbin</td><td>Mrs. Kennedy and Me: An Intimate Memoir</td><td>4.14</td><td>24246</td></tr>",
                            "<tr><td>James L. Swanson</td><td>Manhunt: The 12-Day Chase for Lincoln's Killer</td><td>4.12</td><td>24246</td></tr>",
                            "<tr><td>David Hackett Fischer</td><td>Washington's Crossing</td><td>4.11</td><td>24246</td></tr>",
                            "<tr><td>Edmund Morris</td><td>Colonel Roosevelt</td><td>4.1</td><td>24246</td></tr>",
                            "<tr><td>John Heilemann, Mark Halperin</td><td>Game Change: Obama and the Clintons, McCain and Palin, and the Race of a Lifetime</td><td>4.1</td><td>24246</td></tr>",
                            "<tr><td>David McCullough</td><td>Mornings on Horseback</td><td>4.1</td><td>24246</td></tr>",
                            "<tr><td>Hunter S. Thompson</td><td>Fear and Loathing on the Campaign Trail '72</td><td>4.1</td><td>24246</td></tr>",
                            "<tr><td>Ron Chernow</td><td>Washington: A Life</td><td>4.09</td><td>24246</td></tr>",
                            "<tr><td>Bill O'Reilly, Martin Dugard</td><td>Killing Reagan: The Violent Assault That Changed a Presidency</td><td>4.08</td><td>24246</td></tr>",
                            "<tr><td>David McCullough</td><td>1776</td><td>4.06</td><td>24246</td></tr>",
                            "<tr><td>David McCullough</td><td>John Adams</td><td>4.05</td><td>24246</td></tr>",
                            "<tr><td>Bill O'Reilly, Martin Dugard</td><td>Killing Kennedy: The End of Camelot</td><td>4.05</td><td>24246</td></tr>",
                            "<tr><td>Tom Clancy</td><td>Executive Orders (Jack Ryan Universe, #9)</td><td>4.04</td><td>24246</td></tr>",
                            "<tr><td>Bill O'Reilly, Martin Dugard</td><td>Killing Lincoln: The Shocking Assassination that Changed America Forever</td><td>4.02</td><td>24246</td></tr>",
                            "<tr><td>Edward M. Kennedy</td><td>True Compass: A Memoir</td><td>3.99</td><td>24246</td></tr>",
                            "<tr><td>Jon Meacham</td><td>Thomas Jefferson: The Art of Power</td><td>3.99</td><td>24246</td></tr>",
                            "<tr><td>Sarah Vowell</td><td>Assassination Vacation</td><td>3.98</td><td>24246</td></tr>",
                            "<tr><td>George Saunders</td><td>Lincoln in the Bardo</td><td>3.93</td><td>24246</td></tr>",
                            "<tr><td>Joseph J. Ellis</td><td>Founding Brothers: The Revolutionary Generation</td><td>3.92</td><td>24246</td></tr>",
                            "<tr><td>Joseph J. Ellis</td><td>His Excellency: George Washington</td><td>3.9</td><td>24246</td></tr>",
                            "<tr><td>Joseph J. Ellis</td><td>American Sphinx: The Character of Thomas Jefferson</td><td>3.9</td><td>24246</td></tr>",
                            "<tr><td>Barack Obama</td><td>Dreams from My Father: A Story of Race and Inheritance</td><td>3.81</td><td>24246</td></tr>",
                            "<tr><td>Tom Clancy</td><td>The Bear and the Dragon (Jack Ryan Universe, #11)</td><td>3.79</td><td>24246</td></tr>",
                            "<tr><td>Brian Kilmeade, Don Yaeger</td><td>George Washington's Secret Six: The Spy Ring That Saved the American Revolution</td><td>3.77</td><td>24246</td></tr>",
                            "<tr><td>George W. Bush</td><td>Decision Points</td><td>3.77</td><td>24246</td></tr>",
                            "<tr><td>Jon Meacham</td><td>American Lion: Andrew Jackson in the White House</td><td>3.76</td><td>24246</td></tr>",
                            "<tr><td>Kate Andersen Brower</td><td>The Residence: Inside the Private World of the White House</td><td>3.75</td><td>24246</td></tr>",
                            "<tr><td>Hillary Rodham Clinton</td><td>Living History</td><td>3.75</td><td>24246</td></tr>",
                            "<tr><td>Curtis Sittenfeld</td><td>American Wife</td><td>3.72</td><td>24246</td></tr>",
                            "<tr><td>Bill Clinton</td><td>My Life</td><td>3.72</td><td>24246</td></tr>",
                            "<tr><td>Barack Obama</td><td>The Audacity of Hope: Thoughts on Reclaiming the American Dream</td><td>3.69</td><td>24246</td></tr>",
                            "<tr><td>Dan Brown</td><td>Deception Point</td><td>3.67</td><td>24246</td></tr>",
                            "<tr><td>Donald J. Trump, Tony Schwartz</td><td>Trump: The Art of the Deal</td><td>3.66</td><td>24246</td></tr>",
                            "</table>"
                        ]
                    }
                }
            ],
            "execution_count": 25
        },
        {
            "cell_type": "markdown",
            "source": [
                "### **Summary of event 2:**\n",
                "\n",
                "Double Click to edit."
            ],
            "metadata": {
                "azdata_cell_guid": "99d518dc-cd8b-42d6-9a9d-708771c9aa99"
            },
            "attachments": {}
        },
        {
            "cell_type": "code",
            "source": [
                "-- Event 2 Query\r\n",
                "SELECT TOP (20) b_tag.tag_id, tag.tag_name, COUNT(b_tag.count) \r\n",
                "FROM BooksDB.dbo.book_tags AS b_tag\r\n",
                "INNER JOIN BooksDB.dbo.tags AS tag\r\n",
                "ON b_tag.tag_id = tag.tag_id\r\n",
                "GROUP BY tag.tag_name, b_tag.tag_id\r\n",
                "HAVING tag.tag_name LIKE '%Valentine%'\r\n",
                "ORDER BY COUNT(b_tag.count) DESC;\r\n",
                "\r\n",
                "SELECT TOP (50) b.authors, b.title, b.average_rating, t.tag_id\r\n",
                "FROM BooksDB.dbo.books AS b\r\n",
                "LEFT JOIN BooksDB.dbo.book_tags as t\r\n",
                "ON t.goodreads_book_id = b.best_book_id\r\n",
                "WHERE t.tag_id = '19924'\r\n",
                "ORDER BY tag_id, b.average_rating DESC;"
            ],
            "metadata": {
                "azdata_cell_guid": "1ab358bb-1189-4b2b-b920-4088c67fbe0f",
                "language": "sql"
            },
            "outputs": [
                {
                    "output_type": "display_data",
                    "data": {
                        "text/html": "(3 rows affected)"
                    },
                    "metadata": {}
                },
                {
                    "output_type": "display_data",
                    "data": {
                        "text/html": "(1 row affected)"
                    },
                    "metadata": {}
                },
                {
                    "output_type": "display_data",
                    "data": {
                        "text/html": "Total execution time: 00:00:02.607"
                    },
                    "metadata": {}
                },
                {
                    "output_type": "execute_result",
                    "metadata": {},
                    "execution_count": 24,
                    "data": {
                        "application/vnd.dataresource+json": {
                            "schema": {
                                "fields": [
                                    {
                                        "name": "tag_id"
                                    },
                                    {
                                        "name": "tag_name"
                                    },
                                    {
                                        "name": "(No column name)"
                                    }
                                ]
                            },
                            "data": [
                                {
                                    "0": "19924",
                                    "1": "michelle-a-valentine",
                                    "2": "1"
                                },
                                {
                                    "0": "19931",
                                    "1": "michelle-valentine",
                                    "2": "1"
                                },
                                {
                                    "0": "31711",
                                    "1": "valentine-s-day",
                                    "2": "1"
                                }
                            ]
                        },
                        "text/html": [
                            "<table>",
                            "<tr><th>tag_id</th><th>tag_name</th><th>(No column name)</th></tr>",
                            "<tr><td>19924</td><td>michelle-a-valentine</td><td>1</td></tr>",
                            "<tr><td>19931</td><td>michelle-valentine</td><td>1</td></tr>",
                            "<tr><td>31711</td><td>valentine-s-day</td><td>1</td></tr>",
                            "</table>"
                        ]
                    }
                },
                {
                    "output_type": "execute_result",
                    "metadata": {},
                    "execution_count": 24,
                    "data": {
                        "application/vnd.dataresource+json": {
                            "schema": {
                                "fields": [
                                    {
                                        "name": "authors"
                                    },
                                    {
                                        "name": "title"
                                    },
                                    {
                                        "name": "average_rating"
                                    },
                                    {
                                        "name": "tag_id"
                                    }
                                ]
                            },
                            "data": [
                                {
                                    "0": "Michelle A. Valentine",
                                    "1": "Rock the Heart (Black Falcon, #1)",
                                    "2": "4.01",
                                    "3": "19924"
                                }
                            ]
                        },
                        "text/html": [
                            "<table>",
                            "<tr><th>authors</th><th>title</th><th>average_rating</th><th>tag_id</th></tr>",
                            "<tr><td>Michelle A. Valentine</td><td>Rock the Heart (Black Falcon, #1)</td><td>4.01</td><td>19924</td></tr>",
                            "</table>"
                        ]
                    }
                }
            ],
            "execution_count": 24
        }
    ]
}